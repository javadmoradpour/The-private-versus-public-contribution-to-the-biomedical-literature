{
 "cells": [
  {
   "cell_type": "markdown",
   "metadata": {},
   "source": [
    "# COVID-19\n",
    "\n",
    "In this file, I want to analyze information on the papers published after the COVID-19 outbreak. \n",
    "\n",
    "First, I import all the necessary libraries. "
   ]
  },
  {
   "cell_type": "code",
   "execution_count": 1,
   "metadata": {},
   "outputs": [],
   "source": [
    "import pandas as pd\n",
    "import numpy as np\n",
    "import glob\n",
    "import re\n",
    "import matplotlib.pyplot as plt\n",
    "\n",
    "from re import search\n",
    "import time\n",
    "\n",
    "import googlemaps\n",
    "from tqdm import trange"
   ]
  },
  {
   "cell_type": "markdown",
   "metadata": {},
   "source": [
    "### You can skip to the Data section if the file 'Data.pkl' already exists."
   ]
  },
  {
   "cell_type": "markdown",
   "metadata": {},
   "source": [
    "## Reading the data:\n",
    "\n",
    "I downloaded the list of papers and their characteristics for COVID-19 from the Embase data set. I included all the papers which included the following terms: 'COVID', 'Coronavirus disease 2019, and 'SARS-COV-2'. I also restricted the research to the papers with the main topic being COVID-19. The list of the papers is saved in different excel files (xls). The following codes read all the xls files in the folder, save them in a DataFrame called df. It also gets the name of each column from a different page of the excel file. Additionally, it selects the needed columns and creates a publication id for each document."
   ]
  },
  {
   "cell_type": "code",
   "execution_count": 2,
   "metadata": {},
   "outputs": [
    {
     "name": "stdout",
     "output_type": "stream",
     "text": [
      "WARNING *** file size (4779521) not 512 + multiple of sector size (512)\n",
      "WARNING *** file size (4779521) not 512 + multiple of sector size (512)\n",
      "WARNING *** file size (4655105) not 512 + multiple of sector size (512)\n",
      "WARNING *** file size (4655105) not 512 + multiple of sector size (512)\n",
      "WARNING *** file size (4678657) not 512 + multiple of sector size (512)\n",
      "WARNING *** file size (4678657) not 512 + multiple of sector size (512)\n",
      "WARNING *** file size (5074945) not 512 + multiple of sector size (512)\n",
      "WARNING *** file size (5074945) not 512 + multiple of sector size (512)\n",
      "WARNING *** file size (4536321) not 512 + multiple of sector size (512)\n",
      "WARNING *** file size (4536321) not 512 + multiple of sector size (512)\n",
      "WARNING *** file size (5172225) not 512 + multiple of sector size (512)\n",
      "WARNING *** file size (5172225) not 512 + multiple of sector size (512)\n",
      "WARNING *** file size (4616705) not 512 + multiple of sector size (512)\n",
      "WARNING *** file size (4616705) not 512 + multiple of sector size (512)\n",
      "WARNING *** file size (4539905) not 512 + multiple of sector size (512)\n",
      "WARNING *** file size (4539905) not 512 + multiple of sector size (512)\n",
      "WARNING *** file size (4719105) not 512 + multiple of sector size (512)\n",
      "WARNING *** file size (4719105) not 512 + multiple of sector size (512)\n",
      "WARNING *** file size (4262401) not 512 + multiple of sector size (512)\n",
      "WARNING *** file size (4262401) not 512 + multiple of sector size (512)\n",
      "WARNING *** file size (4686337) not 512 + multiple of sector size (512)\n",
      "WARNING *** file size (4686337) not 512 + multiple of sector size (512)\n",
      "WARNING *** file size (4513281) not 512 + multiple of sector size (512)\n",
      "WARNING *** file size (4513281) not 512 + multiple of sector size (512)\n",
      "WARNING *** file size (4879873) not 512 + multiple of sector size (512)\n",
      "WARNING *** file size (4879873) not 512 + multiple of sector size (512)\n",
      "WARNING *** file size (4593153) not 512 + multiple of sector size (512)\n",
      "WARNING *** file size (4593153) not 512 + multiple of sector size (512)\n",
      "WARNING *** file size (5146113) not 512 + multiple of sector size (512)\n",
      "WARNING *** file size (5146113) not 512 + multiple of sector size (512)\n",
      "WARNING *** file size (4594689) not 512 + multiple of sector size (512)\n",
      "WARNING *** file size (4594689) not 512 + multiple of sector size (512)\n",
      "WARNING *** file size (4578817) not 512 + multiple of sector size (512)\n",
      "WARNING *** file size (4578817) not 512 + multiple of sector size (512)\n",
      "WARNING *** file size (4610049) not 512 + multiple of sector size (512)\n",
      "WARNING *** file size (4610049) not 512 + multiple of sector size (512)\n",
      "WARNING *** file size (4277761) not 512 + multiple of sector size (512)\n",
      "WARNING *** file size (4277761) not 512 + multiple of sector size (512)\n",
      "WARNING *** file size (3603457) not 512 + multiple of sector size (512)\n",
      "WARNING *** file size (3603457) not 512 + multiple of sector size (512)\n",
      "WARNING *** file size (4324865) not 512 + multiple of sector size (512)\n",
      "WARNING *** file size (4324865) not 512 + multiple of sector size (512)\n",
      "WARNING *** file size (5255169) not 512 + multiple of sector size (512)\n",
      "WARNING *** file size (5255169) not 512 + multiple of sector size (512)\n",
      "WARNING *** file size (5315585) not 512 + multiple of sector size (512)\n",
      "WARNING *** file size (5315585) not 512 + multiple of sector size (512)\n",
      "WARNING *** file size (4759553) not 512 + multiple of sector size (512)\n",
      "WARNING *** file size (4759553) not 512 + multiple of sector size (512)\n",
      "WARNING *** file size (4627457) not 512 + multiple of sector size (512)\n",
      "WARNING *** file size (4627457) not 512 + multiple of sector size (512)\n",
      "WARNING *** file size (4118529) not 512 + multiple of sector size (512)\n",
      "WARNING *** file size (4118529) not 512 + multiple of sector size (512)\n",
      "WARNING *** file size (4523521) not 512 + multiple of sector size (512)\n",
      "WARNING *** file size (4523521) not 512 + multiple of sector size (512)\n",
      "WARNING *** file size (4358657) not 512 + multiple of sector size (512)\n",
      "WARNING *** file size (4358657) not 512 + multiple of sector size (512)\n",
      "WARNING *** file size (4358657) not 512 + multiple of sector size (512)\n",
      "WARNING *** file size (4358657) not 512 + multiple of sector size (512)\n",
      "WARNING *** file size (4216321) not 512 + multiple of sector size (512)\n",
      "WARNING *** file size (4216321) not 512 + multiple of sector size (512)\n",
      "WARNING *** file size (4533249) not 512 + multiple of sector size (512)\n",
      "WARNING *** file size (4533249) not 512 + multiple of sector size (512)\n",
      "WARNING *** file size (4542977) not 512 + multiple of sector size (512)\n",
      "WARNING *** file size (4542977) not 512 + multiple of sector size (512)\n",
      "WARNING *** file size (3706881) not 512 + multiple of sector size (512)\n",
      "WARNING *** file size (3706881) not 512 + multiple of sector size (512)\n",
      "WARNING *** file size (4385793) not 512 + multiple of sector size (512)\n",
      "WARNING *** file size (4385793) not 512 + multiple of sector size (512)\n",
      "WARNING *** file size (4926977) not 512 + multiple of sector size (512)\n",
      "WARNING *** file size (4926977) not 512 + multiple of sector size (512)\n",
      "WARNING *** file size (4463617) not 512 + multiple of sector size (512)\n",
      "WARNING *** file size (4463617) not 512 + multiple of sector size (512)\n",
      "WARNING *** file size (4062209) not 512 + multiple of sector size (512)\n",
      "WARNING *** file size (4062209) not 512 + multiple of sector size (512)\n",
      "WARNING *** file size (4145665) not 512 + multiple of sector size (512)\n",
      "WARNING *** file size (4145665) not 512 + multiple of sector size (512)\n",
      "WARNING *** file size (3970561) not 512 + multiple of sector size (512)\n",
      "WARNING *** file size (3970561) not 512 + multiple of sector size (512)\n",
      "WARNING *** file size (3698177) not 512 + multiple of sector size (512)\n",
      "WARNING *** file size (3698177) not 512 + multiple of sector size (512)\n",
      "WARNING *** file size (3996161) not 512 + multiple of sector size (512)\n",
      "WARNING *** file size (3996161) not 512 + multiple of sector size (512)\n",
      "WARNING *** file size (3601921) not 512 + multiple of sector size (512)\n",
      "WARNING *** file size (3601921) not 512 + multiple of sector size (512)\n",
      "WARNING *** file size (3835905) not 512 + multiple of sector size (512)\n",
      "WARNING *** file size (3835905) not 512 + multiple of sector size (512)\n",
      "WARNING *** file size (3898881) not 512 + multiple of sector size (512)\n",
      "WARNING *** file size (3898881) not 512 + multiple of sector size (512)\n",
      "WARNING *** file size (3610625) not 512 + multiple of sector size (512)\n",
      "WARNING *** file size (3610625) not 512 + multiple of sector size (512)\n",
      "WARNING *** file size (4888065) not 512 + multiple of sector size (512)\n",
      "WARNING *** file size (4888065) not 512 + multiple of sector size (512)\n",
      "WARNING *** file size (3564545) not 512 + multiple of sector size (512)\n",
      "WARNING *** file size (3564545) not 512 + multiple of sector size (512)\n",
      "WARNING *** file size (4052481) not 512 + multiple of sector size (512)\n",
      "WARNING *** file size (4052481) not 512 + multiple of sector size (512)\n",
      "WARNING *** file size (3738625) not 512 + multiple of sector size (512)\n",
      "WARNING *** file size (3738625) not 512 + multiple of sector size (512)\n",
      "WARNING *** file size (3295745) not 512 + multiple of sector size (512)\n",
      "WARNING *** file size (3295745) not 512 + multiple of sector size (512)\n",
      "WARNING *** file size (3583489) not 512 + multiple of sector size (512)\n",
      "WARNING *** file size (3583489) not 512 + multiple of sector size (512)\n",
      "WARNING *** file size (3464193) not 512 + multiple of sector size (512)\n",
      "WARNING *** file size (3464193) not 512 + multiple of sector size (512)\n",
      "WARNING *** file size (3348481) not 512 + multiple of sector size (512)\n",
      "WARNING *** file size (3348481) not 512 + multiple of sector size (512)\n",
      "WARNING *** file size (3463681) not 512 + multiple of sector size (512)\n",
      "WARNING *** file size (3463681) not 512 + multiple of sector size (512)\n",
      "WARNING *** file size (3172865) not 512 + multiple of sector size (512)\n",
      "WARNING *** file size (3172865) not 512 + multiple of sector size (512)\n",
      "WARNING *** file size (3679233) not 512 + multiple of sector size (512)\n",
      "WARNING *** file size (3679233) not 512 + multiple of sector size (512)\n",
      "WARNING *** file size (4675585) not 512 + multiple of sector size (512)\n",
      "WARNING *** file size (4675585) not 512 + multiple of sector size (512)\n",
      "WARNING *** file size (2332673) not 512 + multiple of sector size (512)\n",
      "WARNING *** file size (2332673) not 512 + multiple of sector size (512)\n",
      "WARNING *** file size (4995585) not 512 + multiple of sector size (512)\n",
      "WARNING *** file size (4995585) not 512 + multiple of sector size (512)\n",
      "WARNING *** file size (4936705) not 512 + multiple of sector size (512)\n",
      "WARNING *** file size (4936705) not 512 + multiple of sector size (512)\n",
      "WARNING *** file size (4731905) not 512 + multiple of sector size (512)\n",
      "WARNING *** file size (4731905) not 512 + multiple of sector size (512)\n"
     ]
    },
    {
     "data": {
      "text/html": [
       "<div>\n",
       "<style scoped>\n",
       "    .dataframe tbody tr th:only-of-type {\n",
       "        vertical-align: middle;\n",
       "    }\n",
       "\n",
       "    .dataframe tbody tr th {\n",
       "        vertical-align: top;\n",
       "    }\n",
       "\n",
       "    .dataframe thead th {\n",
       "        text-align: right;\n",
       "    }\n",
       "</style>\n",
       "<table border=\"1\" class=\"dataframe\">\n",
       "  <thead>\n",
       "    <tr style=\"text-align: right;\">\n",
       "      <th></th>\n",
       "      <th>Title</th>\n",
       "      <th>Author(s)</th>\n",
       "      <th>Institution</th>\n",
       "      <th>Date Created</th>\n",
       "      <th>Language</th>\n",
       "      <th>Publication Type</th>\n",
       "      <th>Source</th>\n",
       "      <th>Abstract</th>\n",
       "      <th>Grant Information</th>\n",
       "    </tr>\n",
       "  </thead>\n",
       "  <tbody>\n",
       "    <tr>\n",
       "      <th>0</th>\n",
       "      <td>Erratum: Reply to letters addressing \"Chest CT...</td>\n",
       "      <td>Anonymous</td>\n",
       "      <td>NaN</td>\n",
       "      <td>20210402</td>\n",
       "      <td>English</td>\n",
       "      <td>Erratum</td>\n",
       "      <td>American Journal of Roentgenology. 216 (4) (pp...</td>\n",
       "      <td>The corrected version of the December 2020 Tab...</td>\n",
       "      <td>NaN</td>\n",
       "    </tr>\n",
       "    <tr>\n",
       "      <th>1</th>\n",
       "      <td>SARS-CoV-2 infection in mortuary and cemetery ...</td>\n",
       "      <td>Alishaq M.\\n\\nJeremijenko A.\\n\\nNafady-Hego H....</td>\n",
       "      <td>(Alishaq, Jeremijenko, Nafady-Hego, Al Ajmi, F...</td>\n",
       "      <td>20210402</td>\n",
       "      <td>English</td>\n",
       "      <td>Article</td>\n",
       "      <td>International Journal of Infectious Diseases. ...</td>\n",
       "      <td>Background: Mortuary and cemetery workers may ...</td>\n",
       "      <td>NaN</td>\n",
       "    </tr>\n",
       "    <tr>\n",
       "      <th>2</th>\n",
       "      <td>Erratum: Department of Error (The Lancet (2021...</td>\n",
       "      <td>Anonymous</td>\n",
       "      <td>NaN</td>\n",
       "      <td>20210402</td>\n",
       "      <td>English</td>\n",
       "      <td>Erratum</td>\n",
       "      <td>The Lancet. 397 (10278) (pp 970), 2021. Date o...</td>\n",
       "      <td>Commissioners of the Lancet COVID-19 Commissio...</td>\n",
       "      <td>NaN</td>\n",
       "    </tr>\n",
       "    <tr>\n",
       "      <th>3</th>\n",
       "      <td>Saliva twostep for rapid detection of asymptom...</td>\n",
       "      <td>Yang Q.\\n\\nMeyerson N.R.\\n\\nClark S.K.\\n\\nPaig...</td>\n",
       "      <td>(Yang, Meyerson, Clark, Paige, Fattor, Gilchri...</td>\n",
       "      <td>20210402</td>\n",
       "      <td>English</td>\n",
       "      <td>Article</td>\n",
       "      <td>eLife. 10 (no pagination), 2021. Article Numbe...</td>\n",
       "      <td>Here, we develop a simple molecular test for S...</td>\n",
       "      <td>Organization: *University of Colorado Boulder*...</td>\n",
       "    </tr>\n",
       "    <tr>\n",
       "      <th>4</th>\n",
       "      <td>Genomic and healthcare dynamics of nosocomial ...</td>\n",
       "      <td>Ellingford J.M.\\n\\nGeorge R.\\n\\nMcDermott J.H....</td>\n",
       "      <td>(Ellingford, McDermott, Edgerley, Gokhale, New...</td>\n",
       "      <td>20210402</td>\n",
       "      <td>English</td>\n",
       "      <td>Article</td>\n",
       "      <td>eLife. 10 (no pagination), 2021. Article Numbe...</td>\n",
       "      <td>Understanding the effectiveness of infection c...</td>\n",
       "      <td>NaN</td>\n",
       "    </tr>\n",
       "  </tbody>\n",
       "</table>\n",
       "</div>"
      ],
      "text/plain": [
       "                                               Title  \\\n",
       "0  Erratum: Reply to letters addressing \"Chest CT...   \n",
       "1  SARS-CoV-2 infection in mortuary and cemetery ...   \n",
       "2  Erratum: Department of Error (The Lancet (2021...   \n",
       "3  Saliva twostep for rapid detection of asymptom...   \n",
       "4  Genomic and healthcare dynamics of nosocomial ...   \n",
       "\n",
       "                                           Author(s)  \\\n",
       "0                                          Anonymous   \n",
       "1  Alishaq M.\\n\\nJeremijenko A.\\n\\nNafady-Hego H....   \n",
       "2                                          Anonymous   \n",
       "3  Yang Q.\\n\\nMeyerson N.R.\\n\\nClark S.K.\\n\\nPaig...   \n",
       "4  Ellingford J.M.\\n\\nGeorge R.\\n\\nMcDermott J.H....   \n",
       "\n",
       "                                         Institution  Date Created Language  \\\n",
       "0                                                NaN      20210402  English   \n",
       "1  (Alishaq, Jeremijenko, Nafady-Hego, Al Ajmi, F...      20210402  English   \n",
       "2                                                NaN      20210402  English   \n",
       "3  (Yang, Meyerson, Clark, Paige, Fattor, Gilchri...      20210402  English   \n",
       "4  (Ellingford, McDermott, Edgerley, Gokhale, New...      20210402  English   \n",
       "\n",
       "  Publication Type                                             Source  \\\n",
       "0          Erratum  American Journal of Roentgenology. 216 (4) (pp...   \n",
       "1          Article  International Journal of Infectious Diseases. ...   \n",
       "2          Erratum  The Lancet. 397 (10278) (pp 970), 2021. Date o...   \n",
       "3          Article  eLife. 10 (no pagination), 2021. Article Numbe...   \n",
       "4          Article  eLife. 10 (no pagination), 2021. Article Numbe...   \n",
       "\n",
       "                                            Abstract  \\\n",
       "0  The corrected version of the December 2020 Tab...   \n",
       "1  Background: Mortuary and cemetery workers may ...   \n",
       "2  Commissioners of the Lancet COVID-19 Commissio...   \n",
       "3  Here, we develop a simple molecular test for S...   \n",
       "4  Understanding the effectiveness of infection c...   \n",
       "\n",
       "                                   Grant Information  \n",
       "0                                                NaN  \n",
       "1                                                NaN  \n",
       "2                                                NaN  \n",
       "3  Organization: *University of Colorado Boulder*...  \n",
       "4                                                NaN  "
      ]
     },
     "execution_count": 2,
     "metadata": {},
     "output_type": "execute_result"
    }
   ],
   "source": [
    "df = pd.DataFrame()\n",
    "label= pd.DataFrame()\n",
    "for f in glob.glob(\"*.xls\"):\n",
    "    dfi = pd.read_excel(f,header=1)\n",
    "    df = df.append(dfi,ignore_index=True,sort=False)\n",
    "    \n",
    "    labeli=pd.read_excel(f,sheet_name=\"labels\",header=None)\n",
    "    label = label.append(labeli,ignore_index=True,sort=False)\n",
    "    \n",
    "label=label.drop_duplicates().reset_index(drop=True)\n",
    "\n",
    "Column_dict = dict(zip(label[0], label[1]))\n",
    "\n",
    "df=df.rename(columns=Column_dict)\n",
    "\n",
    "df = df[['Title', 'Author(s)', 'Institution', 'Date Created', 'Language', 'Publication Type','Source', 'Abstract', 'Grant Information']]\n",
    "\n",
    "df=df.dropna(axis='index',how='all')\n",
    "\n",
    "df=df.dropna(subset=['Title'])\n",
    "\n",
    "df=df.drop_duplicates().reset_index(drop=True)\n",
    "\n",
    "df.head(5)"
   ]
  },
  {
   "cell_type": "markdown",
   "metadata": {},
   "source": [
    "We only consider the documents with one of the following publication types: Article, Chapter, Review, Letter, Note, and Editorial."
   ]
  },
  {
   "cell_type": "code",
   "execution_count": 3,
   "metadata": {},
   "outputs": [],
   "source": [
    "PT=['Article', 'Chapter', 'Review', 'Letter', 'Note', 'Editorial']\n",
    "\n",
    "df = df[df['Publication Type'].isin(PT)].reset_index(drop=True)\n",
    "\n",
    "df=df.drop(columns=['Publication Type'])\n",
    "\n",
    "df['Publication ID'] = df.index\n",
    "\n",
    "Publication_ID=np.unique(df['Publication ID'])"
   ]
  },
  {
   "cell_type": "markdown",
   "metadata": {},
   "source": [
    "## Number of authors:\n",
    "\n",
    "The following codes calculate the number of authors for each publication."
   ]
  },
  {
   "cell_type": "code",
   "execution_count": 4,
   "metadata": {},
   "outputs": [],
   "source": [
    "Authors =df['Author(s)'].str.split(pat ='\\n' , expand = True)\n",
    "\n",
    "df['Number of Authors']=((Authors!='')&(~Authors.isnull())).sum(axis=1)"
   ]
  },
  {
   "cell_type": "markdown",
   "metadata": {},
   "source": [
    "## Length of publications:\n",
    "\n",
    "For the next step, I want to calculate the number of pages in each publication. The column 'Source' has information about page number of the article in the journal. For example, the column would include '(pp 527-528)', which means the article starts on page 527 and end on page 528. Sometimes the Roman numeric is used to report the page numbers. The following function will convert them into integers. "
   ]
  },
  {
   "cell_type": "code",
   "execution_count": 5,
   "metadata": {},
   "outputs": [],
   "source": [
    "rom_val = {'I': 1, 'V': 5, 'X': 10, 'L': 50, 'C': 100, 'D': 500, 'M': 1000}\n",
    "def roman_to_int(s):\n",
    "    s=s.upper()\n",
    "    int_val = 0\n",
    "    for i in range(len(s)):\n",
    "        if i > 0 and rom_val[s[i]] > rom_val[s[i - 1]]:\n",
    "            int_val += rom_val[s[i]] - 2 * rom_val[s[i - 1]]\n",
    "        else:\n",
    "            int_val += rom_val[s[i]]\n",
    "    return str(int_val)"
   ]
  },
  {
   "cell_type": "markdown",
   "metadata": {},
   "source": [
    "First, I create the variable 'pages' which has information about the page numbers. A document could be published in different parts of a journal. Here I separate different ranges of page numbers."
   ]
  },
  {
   "cell_type": "code",
   "execution_count": 6,
   "metadata": {},
   "outputs": [],
   "source": [
    "Source=df.Source\n",
    "\n",
    "pages = np.empty(len(Source), dtype=object)\n",
    "\n",
    "for i in range(len(Source)):\n",
    "    pa=re.search(r'\\(pp(.*?)\\)', Source[i])\n",
    "    if pa:\n",
    "        pages[i]=pa.group(1)\n",
    "        \n",
    "pages=pd.DataFrame(pages,columns=['Page'])\n",
    "\n",
    "\n",
    "pages.Page=pages.Page.str.replace(',', '+')\n",
    "\n",
    "pages.Page=pages.Page.str.replace('and', '+')\n",
    "\n",
    "\n",
    "pages=pages.Page.str.split(pat ='+', expand = True)\n",
    "\n",
    "Ncol_Pages=pages.shape[1]\n",
    "\n",
    "Pag_Col=['Pb-%s' % i  for i in range(pages.shape[1])]+['Pe-%s' % i  for i in range(pages.shape[1])]\n",
    "\n",
    "Pages = pd.DataFrame(index = range(pages.shape[0]), columns = Pag_Col)\n",
    "\n",
    "\n",
    "for i in range(pages.shape[1]):\n",
    "    Page_Split=pages[i].str.split(pat ='-', expand = True)\n",
    "    \n",
    "    for j in range(pages.shape[0]):\n",
    "        lrp=len(Page_Split.iloc[j].dropna())\n",
    "        if lrp<2:\n",
    "            nb=ne=0\n",
    "        else:\n",
    "            nb=round((lrp/2)-1)\n",
    "            ne=lrp-1\n",
    "\n",
    "        Pages.loc[j,'Pb-%s' % i]=Page_Split.loc[j,nb]\n",
    "        Pages.loc[j,'Pe-%s' % i]=Page_Split.loc[j,ne]\n",
    "        \n",
    "for col in Pages.columns:\n",
    "    Pages[col]=Pages[col].str.strip()"
   ]
  },
  {
   "cell_type": "markdown",
   "metadata": {},
   "source": [
    "The information about appendices is also reported in the 'Source' column. This information is separated from the page number by '.e'. For example '(pp 527-528.e5)' means the publication has 5 pages of appendices. Here I extract the information for appendices."
   ]
  },
  {
   "cell_type": "code",
   "execution_count": 7,
   "metadata": {},
   "outputs": [],
   "source": [
    "for col in Pages.columns:\n",
    "    Pages[col]=Pages[col].str.upper()\n",
    "    \n",
    "for col in Pages.columns:\n",
    "    Pages[col]=Pages[col].str.strip('E')\n",
    "        \n",
    "for col in Pages.columns:\n",
    "    Page_Appendix=Pages[col].str.split(pat ='E' , n = 1, expand = True)\n",
    "    \n",
    "    Pages[col]=Page_Appendix[0]\n",
    "    \n",
    "    Pages['A-%s' % col]=None\n",
    "    \n",
    "    if Page_Appendix.shape[1]==2:\n",
    "        Pages['A-%s' % col]=Page_Appendix[1]\n",
    "        \n",
    "for col in Pages.columns:\n",
    "    Pages[col]=Pages[col].str.strip()"
   ]
  },
  {
   "cell_type": "markdown",
   "metadata": {},
   "source": [
    "Next, I convert the Roman numbers into digits and clean the data."
   ]
  },
  {
   "cell_type": "code",
   "execution_count": 8,
   "metadata": {},
   "outputs": [],
   "source": [
    "for col in Pages.columns:\n",
    "    for j in range(Pages.shape[0]):\n",
    "        if Pages[col][j]!=None:\n",
    "            if ((any(char.isdigit() for char in Pages[col][j])==False) & any(Pages[col][j].upper().startswith(s) for s in rom_val.keys())):\n",
    "                Pages[col][j]=roman_to_int(Pages[col][j])\n",
    "                               \n",
    "for col in Pages.columns:\n",
    "    Pages[col]=Pages[col].str.split(pat ='.', expand = True).replace(r'^\\s*$', np.nan, regex=True).fillna(method='ffill',axis=1).iloc[:,-1]\n",
    "    Pages[col]=Pages[col].str.split(pat ='OF', expand = True)[0]\n",
    "    Pages[col]=Pages[col].str.strip()\n",
    "    \n",
    "for col in Pages.columns:\n",
    "    for j in range(Pages.shape[0]):\n",
    "        if isinstance(Pages[col][j], str):\n",
    "            Pages[col][j]=re.sub('\\D', '', Pages[col][j])\n",
    "            \n",
    "Pages = Pages.replace(r'^\\s*$', np.NaN, regex=True)\n",
    "\n",
    "Pages = Pages.fillna(\"NaN\")\n",
    "\n",
    "for i in range(Ncol_Pages):\n",
    "    for j in range(Pages.shape[0]):\n",
    "        if len(Pages['Pe-%s' % i][j]) < len(Pages['Pb-%s' % i][j]):\n",
    "            Pages.loc[j,'Pb-%s' % i]=Pages.loc[j,'Pb-%s' % i][-len(Pages['Pe-%s' % i][j]):]\n",
    "\n",
    "for col in Pages.columns:\n",
    "    Pages[col]=pd.to_numeric(Pages[col], errors='coerce')\n",
    "    \n",
    "Apendix_col = [col for col in Pages if col.startswith('A')]\n",
    "for col in Apendix_col:\n",
    "    Pages[col] = Pages[col].fillna(0)"
   ]
  },
  {
   "cell_type": "markdown",
   "metadata": {},
   "source": [
    "In the end, I calculate the number of pages and create a new column for DataFrame 'df' to store that. "
   ]
  },
  {
   "cell_type": "code",
   "execution_count": 9,
   "metadata": {},
   "outputs": [],
   "source": [
    "Pages['Dif']=abs(Pages['Pe-%s' % 0]-Pages['Pb-%s' % 0])+1\n",
    "Pages['Dif'][~np.isnan(Pages['Dif'])]=0\n",
    "\n",
    "for j in range(Pages.shape[0]):\n",
    "    for i in range(Ncol_Pages):\n",
    "        dif=abs(Pages['Pe-%s' % i][j]-Pages['Pb-%s' % i][j])+1\n",
    "        if ~np.isnan(dif):\n",
    "            Pages.loc[j,'Dif']=Pages.loc[j,'Dif']+dif\n",
    "        Pages.loc[j,'Dif']=Pages.loc[j,'Dif']+abs(Pages['A-Pe-%s' % i][j]-Pages['A-Pb-%s' % i][j])\n",
    "\n",
    "Pages.loc[(Pages['Dif'] > 100), 'Dif']=np.nan\n",
    "\n",
    "df['Length of publications']=Pages.Dif"
   ]
  },
  {
   "cell_type": "markdown",
   "metadata": {},
   "source": [
    "## Animal Origins\n",
    "\n",
    "Here I search in the title of each paper to see if it mentions any of the following words: Zoo, Bat, Mammal, Mosquito, Bird, Pangolin, Pig, Swine, Animal, Aedes, porcine, pork, primate, reservoir, host, chiropteran, placental, eutherian."
   ]
  },
  {
   "cell_type": "code",
   "execution_count": 10,
   "metadata": {},
   "outputs": [
    {
     "name": "stderr",
     "output_type": "stream",
     "text": [
      "100%|████████████████████████████████████████████████████████████████████████| 113357/113357 [00:38<00:00, 2930.19it/s]\n",
      "100%|███████████████████████████████████████████████████████████████████████| 113357/113357 [00:05<00:00, 21437.93it/s]\n"
     ]
    }
   ],
   "source": [
    "df['Abstract']=df.Abstract.fillna('')\n",
    "\n",
    "animal_wordL=['zoo', 'bat', 'mammal', 'mosquito', 'bird', 'pangolin', 'pig', 'swine', 'animal', 'aedes', 'porcine', 'pork', 'primate', 'reservoir', 'host', 'chiropteran', 'placental', 'eutherian']\n",
    "\n",
    "animal_wordL  = [el.upper() for el in animal_wordL]\n",
    "\n",
    "df['Animal_Origin']=False\n",
    "\n",
    "for i in trange(len(df)):\n",
    "    for j in range(len(animal_wordL)):\n",
    "        if animal_wordL[j] in df.Title[i].upper():\n",
    "            df.loc[i,'Animal_Origin']=True\n",
    "            break\n",
    "            \n",
    "df['One_Health']=False\n",
    "one_health='ONE HEALTH'\n",
    "for i in trange(len(df)):\n",
    "    if (one_health in df.Title[i].upper()) or (one_health in df.Abstract[i].upper()):\n",
    "        df.loc[i,'One_Health']=True"
   ]
  },
  {
   "cell_type": "markdown",
   "metadata": {},
   "source": [
    "## Vaccine and Diagnostic\n",
    "\n",
    "Here I search in the title and abstract of each paper to see if they mention \"Vaccine\" or \"Diagnostic\"."
   ]
  },
  {
   "cell_type": "code",
   "execution_count": 11,
   "metadata": {},
   "outputs": [
    {
     "name": "stderr",
     "output_type": "stream",
     "text": [
      "100%|███████████████████████████████████████████████████████████████████████| 113357/113357 [00:07<00:00, 14824.29it/s]\n",
      "100%|███████████████████████████████████████████████████████████████████████| 113357/113357 [00:07<00:00, 15990.99it/s]\n"
     ]
    }
   ],
   "source": [
    "df['Vaccine']=False\n",
    "Vaccine='VACCINE'\n",
    "for i in trange(len(df)):\n",
    "    if (Vaccine in df.Title[i].upper()) or (Vaccine in df.Abstract[i].upper()):\n",
    "        df.loc[i,'Vaccine']=True\n",
    "            \n",
    "df['Diagnostic']=False\n",
    "Diagnostic='DIAGNOSTIC'\n",
    "for i in trange(len(df)):\n",
    "    if (Diagnostic in df.Title[i].upper()) or (Diagnostic in df.Abstract[i].upper()):\n",
    "        df.loc[i,'Diagnostic']=True"
   ]
  },
  {
   "cell_type": "markdown",
   "metadata": {},
   "source": [
    "## Countries involved:\n",
    "\n",
    "In the next step, I want to extract information about the country of each other. This information can be found in the 'Institution' column. This column lists the institution which each author is associated with. It also has the address of each institution, which can be used to extract the countries involved. The first step is to expand the data and have the information of different institutions in different rows. So, the paper will have several rows, each of them with information from different institutions. The result is saved in a new DataFrame 'data'. "
   ]
  },
  {
   "cell_type": "code",
   "execution_count": 12,
   "metadata": {},
   "outputs": [],
   "source": [
    "data=df.assign(Institution=df['Institution'].str.split(pat ='\\n'))\n",
    "\n",
    "data=data.explode('Institution').reset_index(drop=True)"
   ]
  },
  {
   "cell_type": "markdown",
   "metadata": {},
   "source": [
    "Next I get the category of each country from WHO data. I also create a list for country names."
   ]
  },
  {
   "cell_type": "code",
   "execution_count": 13,
   "metadata": {},
   "outputs": [],
   "source": [
    "Country_category=pd.read_excel('WB-class-rank.xlsx',header=4)\n",
    "\n",
    "Country_category=Country_category[['Economy','Income group']].dropna(subset=['Income group']).reset_index(drop=True)\n",
    "\n",
    "Country_category=Country_category.rename(columns={'Economy':'Countries'})\n",
    "\n",
    "Country_Category_Map={'Micronesia, Fed. Sts.':'Micronesia','Venezuela, RB':'Venezuela','Congo, Dem. Rep.':'Congo','Taiwan, China':'Taiwan','Hong Kong SAR, China':'Hong Kong','Korea, Rep.':'South Korea', \n",
    "                      'Iran, Islamic Rep.':'Iran','Korea, Dem. People\\'s Rep.':'North Korea','Kyrgyz Republic':'Kyrgyzstan','Macao SAR, China':'Macao',\n",
    "                      'Egypt, Arab Rep.':'Egypt', 'Bahamas, The':'Bahamas','Slovak Republic':'Slovakia','Brunei Darussalam':'Brunei','Lao PDR':'Laos','Yemen, Rep.':'Yemen', 'Syrian Arab Republic':'Syria',\n",
    "                     'Russian Federation':'Russia','Côte d\\'Ivoire':'Cote D\\'Ivoire','Gambia, The':'Gambia','Czech Republic':'Czechia','North Macedonia':'Macedonia','Cabo Verde':'Cape Verde'} \n",
    "\n",
    "for i in range(Country_category.shape[0]):\n",
    "    if Country_category.Countries[i] in Country_Category_Map.keys():\n",
    "        Country_category.loc[i,'Countries']=Country_Category_Map[Country_category.Countries[i]]\n",
    "\n",
    "        \n",
    "country_list= list(Country_category.Countries)\n",
    "\n",
    "Extra_Country_Names=['Brasil','Deutschland','Swaziland','Espana','Cabo Verde','Côte d\\'Ivoire','Lao PDR','Kyrgyz Republic','Czech Republic','Slovak Republic',\n",
    "                     'Puerto Rico','Northern Ireland','Wales','Scotland','England']\n",
    "\n",
    "Country_List=country_list+list(Extra_Country_Names)\n",
    "\n",
    "\n",
    "Extra_Country_map={'Brasil':'Brazil','Deutschland':'Germany','Swaziland':'Eswatini','Espana':'Spain', 'Puerto Rico':'United States','England':'United Kingdom',\n",
    "                   'Scotland':'United Kingdom', 'Wales':'United Kingdom', 'Northern Ireland':'United Kingdom', 'UK':'United Kingdom', 'USA':'United States'}\n",
    "\n",
    "Country_Category_Map.update(Extra_Country_map)"
   ]
  },
  {
   "cell_type": "markdown",
   "metadata": {},
   "source": [
    "Next, I extract the last section of the column 'Institution' as the name of the countries. I also check if the column 'Institution' include any of name of the countries from country list."
   ]
  },
  {
   "cell_type": "code",
   "execution_count": 14,
   "metadata": {},
   "outputs": [
    {
     "name": "stderr",
     "output_type": "stream",
     "text": [
      "100%|████████████████████████████████████████████████████████████████████████| 419033/419033 [2:22:39<00:00, 48.96it/s]\n"
     ]
    }
   ],
   "source": [
    "data['Institution']=data['Institution'].str.strip(',.-')\n",
    "\n",
    "data['Institution'] = data.Institution.fillna('')\n",
    "\n",
    "data['Institution'] = data.Institution.str.replace('\\(.*?\\)', '', 1)\n",
    "\n",
    "data['Institution'] = data.Institution.str.replace(';', ',')\n",
    "\n",
    "\n",
    "data['Countries'] = data.Institution.str.split(pat =',', expand = True).ffill(axis=1).iloc[:, -1]\n",
    "\n",
    "data['Countries'] = data['Countries'].str.replace(r'[;+.,\\\\]', '') \n",
    "\n",
    "data['Countries']=data['Countries'].str.strip()\n",
    "\n",
    "\n",
    "for i in trange(len(data)):\n",
    "    for j in range(len(Country_List)):\n",
    "        if search(Country_List[j], data.Institution[i]):\n",
    "            data.loc[i,'Countries']=Country_List[j]\n",
    "            break"
   ]
  },
  {
   "cell_type": "markdown",
   "metadata": {},
   "source": [
    "The following lines of codes search the name of institutions in the Google maps data set and extract the name of the countries. You can **skip this step** if the file \"CountriesMap.xlsx\" already exists. You have to replace the Maps API key with your own key. For more information visit [this link](https://github.com/googlemaps/google-maps-services-python). "
   ]
  },
  {
   "cell_type": "code",
   "execution_count": null,
   "metadata": {},
   "outputs": [],
   "source": [
    "gmaps = googlemaps.Client(key='Your Maps API key')\n",
    "\n",
    "key_words=['University','Universitat','Hochschule','Universit','Universid','Hospital','Krankenhaus','Landesspital','Ospedal', 'Foundation','Fundacion','Institut','Istituto','School of Medicine']\n",
    "\n",
    "Countries=data[['Title','Institution','Countries']].drop_duplicates(subset=['Countries'], keep='last').reset_index(drop=True)\n",
    "\n",
    "Countries = Countries.fillna('')\n",
    "\n",
    "Countries['Mapped']=Countries.Countries\n",
    "\n",
    "for i in trange(len(Countries)):\n",
    "    if Countries.Countries[i] not in Country_List:\n",
    "        Institution_split=Countries.Institution[i].split(',')\n",
    "        for key in range(len(key_words)):\n",
    "            key_match=False\n",
    "            for j in range(len(Institution_split)):\n",
    "                if key_words[key].upper() in Institution_split[j].upper():\n",
    "                    Institution_split[j] = re.sub(r'\\(.*?\\)', '', Institution_split[j])\n",
    "                    Institution_address=gmaps.find_place(Institution_split[j], input_type='textquery', fields= ['formatted_address'])\n",
    "                    try:\n",
    "                        Countries.loc[i,'Mapped']=Institution_address['candidates'][0]['formatted_address']\n",
    "                        key_match=True\n",
    "                        break\n",
    "                    except:\n",
    "                        key_match=False\n",
    "            if key_match:\n",
    "                break\n",
    "                \n",
    "for i in trange(len(Countries)):\n",
    "    dummy=True\n",
    "    for j in range(len(Country_List)):\n",
    "        if (Country_List[j] in Countries.Mapped[i]):\n",
    "            Countries.loc[i,'Mapped']=Country_List[j]\n",
    "            dummy=False\n",
    "            break\n",
    "    if dummy:\n",
    "        Countries.loc[i,'Mapped']=Countries.loc[i,'Mapped'].split(',')[-1]\n",
    "        \n",
    "Countries.Mapped=Countries.Mapped.str.strip()\n",
    "\n",
    "for i in trange(len(Countries)):\n",
    "    if Countries.Mapped[i] not in Country_List:\n",
    "        Mapped_types=''\n",
    "        try:\n",
    "            Mapped_types=gmaps.find_place(Countries.Mapped[i], input_type='textquery', fields= ['types'])['candidates'][0]['types'][-1]\n",
    "            if Mapped_types=='political':\n",
    "                Countries.loc[i,'Mapped']=gmaps.find_place(Countries.Mapped[i], input_type='textquery', fields= ['formatted_address'])['candidates'][0]['formatted_address'].split(',')[-1]\n",
    "        except:\n",
    "            pass\n",
    "\n",
    "Countries.Mapped=Countries.Mapped.str.strip()\n",
    "\n",
    "for i in range(len(Countries)):\n",
    "    if Countries.Mapped[i] in Country_Category_Map.keys():\n",
    "        Countries.loc[i,'Mapped']=Country_Category_Map[Countries.Mapped[i]]\n",
    "        \n",
    "Countries.drop_duplicates(subset=['Countries'], keep='last').sort_values(by=['Mapped']).reset_index(drop=True).to_excel('Countries_Map.xlsx',index=False)"
   ]
  },
  {
   "cell_type": "markdown",
   "metadata": {},
   "source": [
    "Google map uses IP address biasing by default, so it has a tendency to find places in Canada. We need to check places matched with Canada in 'Countries_Map.xlsx' and correct them manually."
   ]
  },
  {
   "cell_type": "code",
   "execution_count": 15,
   "metadata": {},
   "outputs": [
    {
     "name": "stderr",
     "output_type": "stream",
     "text": [
      "100%|█████████████████████████████████████████████████████████████████████████| 419033/419033 [51:08<00:00, 136.58it/s]\n",
      "100%|████████████████████████████████████████████████████████████████████████| 419033/419033 [01:28<00:00, 4741.39it/s]\n"
     ]
    }
   ],
   "source": [
    "CountriesMap = pd.read_excel(\"CountriesMap.xlsx\",header=0)\n",
    "\n",
    "CountriesMap=dict(zip(CountriesMap.Countries, CountriesMap.Mapped))\n",
    "\n",
    "for i in trange(len(data)):\n",
    "    if data.Countries[i] in CountriesMap.keys():\n",
    "        data.loc[i,'Countries']=CountriesMap[data.Countries[i]]\n",
    "        \n",
    "for i in trange(len(data)):\n",
    "    if data.Countries[i] not in country_list:\n",
    "        data.loc[i,'Countries']=''"
   ]
  },
  {
   "cell_type": "markdown",
   "metadata": {},
   "source": [
    "Now we can add the income group of each country."
   ]
  },
  {
   "cell_type": "code",
   "execution_count": 16,
   "metadata": {},
   "outputs": [],
   "source": [
    "data=data.merge(Country_category, on='Countries', how='left')      "
   ]
  },
  {
   "cell_type": "markdown",
   "metadata": {},
   "source": [
    "Next, we calculate the number of countries involved in the publication. "
   ]
  },
  {
   "cell_type": "code",
   "execution_count": 17,
   "metadata": {},
   "outputs": [],
   "source": [
    "data['Number of Countries']=0\n",
    "\n",
    "for ID in Publication_ID:\n",
    "    lc=np.unique(data[data['Publication ID']==ID].Countries)\n",
    "    lc=lc[lc!='']\n",
    "    data.loc[data['Publication ID']==ID, ['Number of Countries']] = len(lc)\n",
    "    \n",
    "data.loc[(data['Number of Countries']==0), 'Number of Countries']=np.nan"
   ]
  },
  {
   "cell_type": "markdown",
   "metadata": {},
   "source": [
    "## Industry ties \n",
    "\n",
    "Now, I want to identify all the authors with industry ties. I use the column 'Institution' for this part as well. To check in any of the institutions listed in this data set are from industry, I use the sponsor data from ClinicalTrials.gov. I match sponsors from the industry from that data set with the 'Institution' listed for each author. \n",
    "\n",
    "First, I clean the sponsor data. I define the list of general words used in the name of companies as 'General_words'. If the name of a sponsor is only made of these words, they can match with some descriptions in the 'Institution' column. So, I ignore them if they do not have any specific words in the name of the sponsors. I also define the list for the type of a company as 'Business_structure'. The name of a company may or may not include these words in different lists, so I delete them from both lists I want to match with each other. I also delete all the parenthesizes and punctuation. Additionally, the list 'Non_profits' is used to exclude non-profit organizations."
   ]
  },
  {
   "cell_type": "code",
   "execution_count": 18,
   "metadata": {},
   "outputs": [],
   "source": [
    "sponsors = pd.read_csv(r\"sponsors.txt\", sep='|')\n",
    "\n",
    "sponsors=sponsors[['agency_class','name']]\n",
    "sponsors=sponsors[sponsors.agency_class=='Industry']\n",
    "sponsors=sponsors[['name']]\n",
    "sponsors=sponsors.rename(columns={'name':'Sponsors'})\n",
    "\n",
    "sponsors=sponsors.drop_duplicates().reset_index(drop=True)\n",
    "\n",
    "sponsors['Original Name']=sponsors.Sponsors\n",
    "\n",
    "General_words=['AB','for','Humana','GmbH', 'Limited', 'AS', 'Focus','Diagnostics','Mind','Response','Discovery','Dimension','Therapy','Community','Origin','Cellular','Foundation','Protection','Clinical','Performance', \n",
    "               'Health','Tissue','Laboratories','Evolution','Morphogenesis','Medical', 'Entomology', 'Biologics','Lung','Biology','Applied','Functional','Integrated','Technology', 'Advanced','New','International',\n",
    "               'Biomedical','Life','Biosciences', 'Institut','Institute', 'Research','Center','Centre', '&','Translational', 'Science', 'Sciences','Medicine', 'Stem', 'Cell', 'Management','University', \n",
    "               'Therapeutics', 'United','Systems', 'Neuroscience', 'Genetics', 'Molecular']\n",
    "\n",
    "Business_structure=['Inc', 'Ltd', 'Corp', 'LLC', 'AG', 'BV', 'KG',  'Co', 'Pty', 'Plc']\n",
    "\n",
    "General_words  = [el.upper() for el in General_words ]\n",
    "\n",
    "Business_structure  = [el.upper() for el in Business_structure]\n",
    "\n",
    "for i in range(len(sponsors)):\n",
    "    sponsors.Sponsors[i]=re.sub(r'\\((.*?)\\)', '', sponsors.Sponsors[i])\n",
    "    sponsors.Sponsors[i]=re.sub(r'[+.,\\\\]', '', sponsors.Sponsors[i])\n",
    "    if (not all(el in (General_words+Business_structure) for el in set(sponsors.Sponsors[i].upper().split()))):\n",
    "        sponsors.Sponsors[i]=re.sub(r'Inc$|Ltd$|corp$|LLC$|AG$|AB$|BV$|GmbH$|KG$|AS$|Limited$|Co$|Spa$|Pty|plc$', '', sponsors.Sponsors[i], flags=re.I).rstrip()\n",
    "        sponsors.Sponsors[i]=re.sub(r'Inc$|Ltd$|corp$|LLC$|AG$|AB$|BV$|GmbH$|KG$|AS$|Limited$|Co$|Spa$|Pty|plc$', '', sponsors.Sponsors[i], flags=re.I).rstrip()\n",
    "    if all(el in General_words for el in set(sponsors.Sponsors[i].upper().split())):\n",
    "        sponsors.Sponsors[i]=None\n",
    "        \n",
    "sponsors=sponsors.dropna(subset=['Sponsors'])\n",
    "\n",
    "Non_profits=['Institut Pasteur','Burroughs Wellcome']\n",
    "\n",
    "for el in Non_profits:\n",
    "    sponsors=sponsors[sponsors.Sponsors!=el]\n",
    "    \n",
    "sponsors.Sponsors=' '+sponsors.Sponsors+' '\n",
    "\n",
    "sponsors=sponsors.drop_duplicates().reset_index(drop=True)\n",
    "\n",
    "#sponsors.to_excel('Sponsors.xls',index=False)"
   ]
  },
  {
   "cell_type": "markdown",
   "metadata": {},
   "source": [
    "Next, I clean the data in the 'Institution' column. I delete the words in parenthesize, which are the name of authors and some extra explanations. I only consider the first two sections of the data in this column. The rest of the data is usually the address of the institution. I also delete all the punctuation. "
   ]
  },
  {
   "cell_type": "code",
   "execution_count": 19,
   "metadata": {},
   "outputs": [
    {
     "name": "stderr",
     "output_type": "stream",
     "text": [
      "100%|████████████████████████████████████████████████████████████████████████| 419033/419033 [4:49:36<00:00, 24.11it/s]\n",
      "100%|████████████████████████████████████████████████████████████████████████| 419033/419033 [3:40:37<00:00, 31.65it/s]\n"
     ]
    }
   ],
   "source": [
    "for i in trange(len(data)):\n",
    "    data.loc[i,'Institution']=re.sub(r'^\\((.*?)\\)', '', data.loc[i,'Institution'],1).lstrip()\n",
    "\n",
    "Inst =data.Institution.str.split(pat =',' , expand = True)\n",
    "\n",
    "Inst = Inst.replace(np.nan, '', regex=True)\n",
    "\n",
    "data.Institution=(Inst[0]+Inst[1]).str.strip()\n",
    "\n",
    "for i in trange(len(data)):\n",
    "    data.loc[i,'Institution']=re.sub(r'[+.,\\\\]', '', data.loc[i,'Institution'])\n",
    "    \n",
    "data=data.drop_duplicates().reset_index(drop=True)"
   ]
  },
  {
   "cell_type": "markdown",
   "metadata": {},
   "source": [
    "I also look into the grant information for each publication to see if they are related to industries. Each publication might receive several grants. Here I clean the 'Grant Information' column and store each grant in a different row. I store the expanded rows in the 'Data' DataFrame."
   ]
  },
  {
   "cell_type": "code",
   "execution_count": 20,
   "metadata": {},
   "outputs": [
    {
     "name": "stderr",
     "output_type": "stream",
     "text": [
      "100%|█████████████████████████████████████████████████████████████████████████| 518470/518470 [51:40<00:00, 167.24it/s]\n"
     ]
    }
   ],
   "source": [
    "Data=data.assign(Grant=data['Grant Information'].str.split(pat ='\\n'))\n",
    "\n",
    "Data=Data.explode('Grant').reset_index(drop=True)\n",
    "\n",
    "Data=Data.drop(columns=['Grant Information'])\n",
    "\n",
    "for i in trange(Data.shape[0]):\n",
    "    if isinstance(Data.Grant[i], str):\n",
    "        Gr=re.search(r'\\*(.*?)\\*', Data.Grant[i])\n",
    "        if Gr:\n",
    "            Data.loc[i,'Grant']=Gr.group(1).strip()"
   ]
  },
  {
   "cell_type": "markdown",
   "metadata": {},
   "source": [
    "Now I define a list of words that if a name includes them, they will not be considered 'Industry'."
   ]
  },
  {
   "cell_type": "code",
   "execution_count": 21,
   "metadata": {},
   "outputs": [],
   "source": [
    "Excluded=['University', 'College']\n",
    "\n",
    "Excluded  = [el.upper() for el in Excluded]"
   ]
  },
  {
   "cell_type": "markdown",
   "metadata": {},
   "source": [
    "Next, I check if each of the names in the 'Grant' column is from the industry. To do that I define a new DataFrame called 'grant' with grant information and delete the duplicates row. I define a new column called 'Agency Class' and set it equal to 'Other' by default. Then if the 'Grant' column includes any of the words in the 'Business_structure' list, the 'Agency Class' would change to the industry. If it includes any word from the 'Excluded' list it will stay 'Other'. The rest of the names will be matched with sponsor data from clinical trials. If it matches with any name from there,'Agency Class' would change to the industry. The matched names are saved in an excel file called 'Grant_matched'. This file should be manually checked to make sure all the matches are correct. If the matching is incorrect, the column 'Correction' should be changed to 1. I changed the name of the file to 'GrantMatched.xlsx' to avoid accidental rewrite.\n",
    "\n",
    "This step might take several minutes to run. So the result is saved in an excel file called 'grant.xlsx' and if this file already exists, **the next two steps can we skipped*** in a rerun of the program (skipping only one of them can cause error)."
   ]
  },
  {
   "cell_type": "code",
   "execution_count": 30,
   "metadata": {},
   "outputs": [
    {
     "name": "stderr",
     "output_type": "stream",
     "text": [
      "100%|██████████████████████████████████████████████████████████████████████████████| 1700/1700 [09:12<00:00,  3.08it/s]\n"
     ]
    }
   ],
   "source": [
    "grant=Data[['Grant']].drop_duplicates().dropna().reset_index(drop=True)\n",
    "\n",
    "grant.Grant=' '+grant.Grant+' '\n",
    "\n",
    "grant['Agency Class']='Other'\n",
    "\n",
    "Grant_matched=pd.DataFrame(columns=['Sponsors', 'Grant'])\n",
    "\n",
    "for i in trange(len(grant)):\n",
    "    if any(check in set(grant.Grant[i].upper().split()) for check in Business_structure):\n",
    "        grant['Agency Class'][i]='Industry'\n",
    "    elif any(el in set(grant.Grant[i].upper().split()) for el in Excluded):\n",
    "        grant['Agency Class'][i]='Other'\n",
    "    else:\n",
    "        for j in range(len(sponsors)):\n",
    "            if (sponsors.Sponsors[j] in grant.Grant[i]):\n",
    "                grant['Agency Class'][i]='Industry'\n",
    "                mat={'Sponsors' : sponsors.Sponsors[j] , 'Grant' : grant.Grant[i]}\n",
    "                Grant_matched=Grant_matched.append(mat,ignore_index=True)\n",
    "            \n",
    "\n",
    "Grant_matched=Grant_matched.drop_duplicates().reset_index(drop=True)\n",
    "\n",
    "Grant_matched['Correction']=0\n",
    "\n",
    "Grant_matched.to_excel('Grant_Matched.xlsx',index=False)"
   ]
  },
  {
   "cell_type": "code",
   "execution_count": 31,
   "metadata": {},
   "outputs": [],
   "source": [
    "Grant_matched = pd.read_excel('GrantMatched.xlsx')\n",
    "\n",
    "Corrections=list(Grant_matched[Grant_matched.Correction==1]['Grant'])\n",
    "\n",
    "for i in range(len(grant)):\n",
    "    if grant.Grant[i] in Corrections:\n",
    "        grant['Agency Class'][i]='Other'\n",
    "        \n",
    "grant.to_excel('grant.xlsx',index=False)"
   ]
  },
  {
   "cell_type": "markdown",
   "metadata": {},
   "source": [
    "Similarly, I check if each of the names in the 'Institution' column is from the industry.\n",
    "\n",
    "This step might take several hours to run. So the result is saved in an excel file called 'institution.xlsx'. If this file already exists, ***this step can we skipped*** in a rerun of the program."
   ]
  },
  {
   "cell_type": "code",
   "execution_count": 32,
   "metadata": {},
   "outputs": [
    {
     "name": "stderr",
     "output_type": "stream",
     "text": [
      "100%|████████████████████████████████████████████████████████████████████████| 115799/115799 [8:41:57<00:00,  3.70it/s]\n"
     ]
    }
   ],
   "source": [
    "institution=Data[['Institution']].drop_duplicates().dropna().reset_index(drop=True)\n",
    "\n",
    "institution.Institution=' '+institution.Institution+' '\n",
    "\n",
    "institution['Agency Class']='Other'\n",
    "\n",
    "Institution_matched=pd.DataFrame(columns=['Sponsors', 'Institution'])\n",
    "\n",
    "for i in trange(len(institution)):\n",
    "    if any(el in set(institution.Institution[i].upper().split()) for el in Business_structure):\n",
    "        institution['Agency Class'][i]='Industry'\n",
    "    elif any(el in set(institution.Institution[i].upper().split()) for el in Excluded):\n",
    "        institution['Agency Class'][i]='Other'\n",
    "    else:\n",
    "        for j in range(len(sponsors)):\n",
    "            if (sponsors.Sponsors[j] in institution.Institution[i]):\n",
    "                institution['Agency Class'][i]='Industry'\n",
    "                mat={'Sponsors' : sponsors.Sponsors[j] , 'Institution' : institution.Institution[i]}\n",
    "                Institution_matched=Institution_matched.append(mat,ignore_index=True)\n",
    "                \n",
    "                \n",
    "Institution_matched=Institution_matched.drop_duplicates().reset_index(drop=True)\n",
    "\n",
    "Institution_matched['Correction']=0\n",
    "\n",
    "Institution_matched.to_excel('Institution_Matched.xlsx',index=False)"
   ]
  },
  {
   "cell_type": "code",
   "execution_count": 33,
   "metadata": {},
   "outputs": [],
   "source": [
    "Institution_matched = pd.read_excel('InstitutionMatched.xlsx')\n",
    "\n",
    "Corrections=list(Institution_matched[Institution_matched.Correction==1]['Institution'])\n",
    "\n",
    "for i in range(len(institution)):\n",
    "    if institution.Institution[i] in Corrections:\n",
    "        institution['Agency Class'][i]='Other'\n",
    "        \n",
    "institution.to_excel('institution.xlsx',index=False)"
   ]
  },
  {
   "cell_type": "markdown",
   "metadata": {},
   "source": [
    "Next, I read the saved excel files and merge the industry lists with the main data."
   ]
  },
  {
   "cell_type": "code",
   "execution_count": 22,
   "metadata": {},
   "outputs": [],
   "source": [
    "grant = pd.read_excel('grant.xlsx')\n",
    "grant.Grant=grant.Grant.str.strip()\n",
    "\n",
    "institution=pd.read_excel('institution.xlsx')\n",
    "institution.Institution=institution.Institution.str.strip()\n",
    "\n",
    "\n",
    "Data=Data.merge(institution, on='Institution', how='left')\n",
    "Data=Data.rename(columns={'Agency Class':'Institution Agency Class'})\n",
    "\n",
    "Data=Data.merge(grant, on='Grant', how='left')\n",
    "Data=Data.rename(columns={'Agency Class':'Grant Agency Class'})\n",
    "\n",
    "Data['Institution Agency Class'] = Data['Institution Agency Class'].fillna('')\n",
    "Data['Grant Agency Class'] = Data['Grant Agency Class'].fillna('')"
   ]
  },
  {
   "cell_type": "markdown",
   "metadata": {},
   "source": [
    "Now I create a new column 'Industry', which is 'True' for a publication if one of the rows of the publication for 'Institution Agency Class' or 'Grant Agency Class' is 'Industry'."
   ]
  },
  {
   "cell_type": "code",
   "execution_count": 23,
   "metadata": {},
   "outputs": [],
   "source": [
    "Data['Industry']=False\n",
    "for ID in Publication_ID:\n",
    "    Ac_Inst=list(np.unique(Data[Data['Publication ID']==ID]['Institution Agency Class']))\n",
    "    Ac_Gran=list(np.unique(Data[Data['Publication ID']==ID]['Grant Agency Class']))\n",
    "    Ac=Ac_Inst+Ac_Gran\n",
    "    if 'Industry' in Ac:\n",
    "        Data.loc[Data['Publication ID']==ID, ['Industry']] = True"
   ]
  },
  {
   "cell_type": "markdown",
   "metadata": {},
   "source": [
    "Next, I save the data in a file called 'Data.pkl'. The next section will read this data. So, you can skip running the previous sections of the program, if this file is available."
   ]
  },
  {
   "cell_type": "code",
   "execution_count": 24,
   "metadata": {},
   "outputs": [],
   "source": [
    "Data.to_pickle('Data.pkl')"
   ]
  },
  {
   "cell_type": "markdown",
   "metadata": {},
   "source": [
    "## Date\n",
    "\n",
    "Now I read the data set from the saved file. "
   ]
  },
  {
   "cell_type": "code",
   "execution_count": 52,
   "metadata": {},
   "outputs": [],
   "source": [
    "Data= pd.read_pickle('Data.pkl')"
   ]
  },
  {
   "cell_type": "markdown",
   "metadata": {},
   "source": [
    "Next, I clean the column 'Date Created'. I also set the beginning and end date for the data to be included. For the time segmentation to work properly, the beginning date should be the first day of a month and the end date should be the end date of another month. I save the trimmed data set in a new DataFrame called 'DATA'."
   ]
  },
  {
   "cell_type": "code",
   "execution_count": 72,
   "metadata": {},
   "outputs": [],
   "source": [
    "Data['Date Created']=pd.to_datetime(Data['Date Created'], format='%Y%m%d', errors='ignore')\n",
    "\n",
    "Data=Data.sort_values(by=['Date Created']).reset_index(drop=True)\n",
    "\n",
    "Start_date='2020-01-01'\n",
    "End_data='2021-03-31'\n",
    "DATA=Data[Data['Date Created']>=Start_date]\n",
    "DATA=DATA[DATA['Date Created']<End_data].reset_index(drop=True)"
   ]
  },
  {
   "cell_type": "code",
   "execution_count": 73,
   "metadata": {},
   "outputs": [],
   "source": [
    "for col in ['Abstract','Language','Institution','Grant','Countries']:\n",
    "    DATA[col]=DATA[col].str.strip()\n",
    "    \n",
    "DATA=DATA.replace(r'^\\s*$', np.NaN, regex=True)\n",
    "\n",
    "DATA.loc[(DATA['Institution'].isnull() & DATA['Grant'].isnull()), 'Industry']=np.nan"
   ]
  },
  {
   "cell_type": "markdown",
   "metadata": {},
   "source": [
    "## Results\n",
    "\n",
    "This section presents the different trends observed in the data set."
   ]
  },
  {
   "cell_type": "markdown",
   "metadata": {},
   "source": [
    "### Number of publications\n",
    "\n",
    "First, I show how the number of publications in change by time. The variable 'freq' set the length of each time period. "
   ]
  },
  {
   "cell_type": "code",
   "execution_count": 74,
   "metadata": {},
   "outputs": [],
   "source": [
    "Count_Publication=DATA[['Publication ID','Date Created']].drop_duplicates().reset_index(drop=True)\n",
    "\n",
    "Count_Publication=Count_Publication.groupby(pd.Grouper(key=\"Date Created\",freq='M', closed='left', label='left'))\n",
    "\n",
    "Count_Publication=Count_Publication.agg('count')"
   ]
  },
  {
   "cell_type": "code",
   "execution_count": 75,
   "metadata": {},
   "outputs": [
    {
     "data": {
      "image/png": "[encoded data removed]",
      "text/plain": [
       "<Figure size 432x288 with 1 Axes>"
      ]
     },
     "metadata": {
      "needs_background": "light"
     },
     "output_type": "display_data"
    }
   ],
   "source": [
    "fig, ax = plt.subplots()\n",
    "\n",
    "ax.plot(Count_Publication.index, Count_Publication)\n",
    "\n",
    "fig.autofmt_xdate()\n",
    "\n",
    "plt.xlabel('Time')\n",
    "\n",
    "plt.ylabel('Number of publication')\n",
    "\n",
    "plt.title('Number of publications')\n",
    "\n",
    "plt.show()\n",
    "\n",
    "fig.savefig('Number_publications.png')\n",
    "\n",
    "plt.close(fig)"
   ]
  },
  {
   "cell_type": "markdown",
   "metadata": {},
   "source": [
    "### Language\n",
    "\n",
    "Next, I look into how the share of English publications changes over time."
   ]
  },
  {
   "cell_type": "code",
   "execution_count": 76,
   "metadata": {},
   "outputs": [],
   "source": [
    "Language=DATA[['Publication ID','Language','Date Created']].drop_duplicates().dropna(subset=['Language']).reset_index(drop=True)\n",
    "\n",
    "Language['English']= (Language['Language']=='English')\n",
    "\n",
    "Language=Language.groupby(pd.Grouper(key=\"Date Created\",freq='M', closed='left', label='left'))\n",
    "\n",
    "Language=Language[['English']].agg('mean')"
   ]
  },
  {
   "cell_type": "code",
   "execution_count": 77,
   "metadata": {},
   "outputs": [
    {
     "data": {
      "image/png": "[encoded data removed]",
      "text/plain": [
       "<Figure size 432x288 with 1 Axes>"
      ]
     },
     "metadata": {
      "needs_background": "light"
     },
     "output_type": "display_data"
    }
   ],
   "source": [
    "fig, ax = plt.subplots()\n",
    "\n",
    "ax.plot(Language.index, Language)\n",
    "\n",
    "fig.autofmt_xdate()\n",
    "\n",
    "plt.xlabel('Time')\n",
    "\n",
    "plt.ylabel('share of English publications')\n",
    "\n",
    "plt.title('Language')\n",
    "\n",
    "plt.show()\n",
    "\n",
    "fig.savefig('Language.png')\n",
    "\n",
    "plt.close(fig)"
   ]
  },
  {
   "cell_type": "markdown",
   "metadata": {},
   "source": [
    "### Number of Countries\n",
    "\n",
    "Now, I look at how the number of countries involved in publications changes by time"
   ]
  },
  {
   "cell_type": "code",
   "execution_count": 78,
   "metadata": {},
   "outputs": [],
   "source": [
    "Number_Countries=DATA[['Publication ID','Number of Countries','Date Created']].drop_duplicates().dropna(subset=['Number of Countries']).reset_index(drop=True)\n",
    "\n",
    "Number_Countries=Number_Countries.groupby(pd.Grouper(key=\"Date Created\",freq='M', closed='left', label='left'))\n",
    "\n",
    "Number_Countries=Number_Countries[['Number of Countries']].agg('mean')"
   ]
  },
  {
   "cell_type": "code",
   "execution_count": 79,
   "metadata": {},
   "outputs": [
    {
     "data": {
      "image/png": "[encoded data removed]",
      "text/plain": [
       "<Figure size 432x288 with 1 Axes>"
      ]
     },
     "metadata": {
      "needs_background": "light"
     },
     "output_type": "display_data"
    }
   ],
   "source": [
    "fig, ax = plt.subplots()\n",
    "\n",
    "ax.plot(Number_Countries.index, Number_Countries)\n",
    "\n",
    "fig.autofmt_xdate()\n",
    "\n",
    "plt.xlabel('Time')\n",
    "\n",
    "plt.ylabel('Average Number of Countries involved')\n",
    "\n",
    "plt.title('Number of Countries')\n",
    "\n",
    "plt.show()\n",
    "\n",
    "fig.savefig('Number_Countries.png')\n",
    "\n",
    "plt.close(fig)"
   ]
  },
  {
   "cell_type": "markdown",
   "metadata": {},
   "source": [
    "### Animal Origin\n",
    "\n",
    "Next, I show how the portion of publications with animal origin changes over time."
   ]
  },
  {
   "cell_type": "code",
   "execution_count": 80,
   "metadata": {},
   "outputs": [],
   "source": [
    "Animal_Origin=DATA[['Publication ID','Animal_Origin','Date Created']].drop_duplicates().dropna(subset=['Animal_Origin']).reset_index(drop=True)\n",
    "\n",
    "Animal_Origin=Animal_Origin.groupby(pd.Grouper(key=\"Date Created\",freq='M', closed='left', label='left'))\n",
    "\n",
    "Animal_Origin=Animal_Origin[['Animal_Origin']].agg('mean')"
   ]
  },
  {
   "cell_type": "code",
   "execution_count": 81,
   "metadata": {},
   "outputs": [
    {
     "data": {
      "image/png": "[encoded data removed]",
      "text/plain": [
       "<Figure size 432x288 with 1 Axes>"
      ]
     },
     "metadata": {
      "needs_background": "light"
     },
     "output_type": "display_data"
    }
   ],
   "source": [
    "fig, ax = plt.subplots()\n",
    "\n",
    "ax.plot(Animal_Origin.index, Animal_Origin)\n",
    "\n",
    "fig.autofmt_xdate()\n",
    "\n",
    "plt.xlabel('Time')\n",
    "\n",
    "plt.ylabel('Portion of paper with animal origin')\n",
    "\n",
    "plt.title('Animal Origin')\n",
    "\n",
    "plt.show()\n",
    "\n",
    "fig.savefig('Animal_Origin.png')\n",
    "\n",
    "plt.close(fig)"
   ]
  },
  {
   "cell_type": "markdown",
   "metadata": {},
   "source": [
    "### Vaccine\n",
    "\n",
    "Here, I show how the portion of publications that mentioned 'Vaccine' in tile or abstract changes over time."
   ]
  },
  {
   "cell_type": "code",
   "execution_count": 82,
   "metadata": {},
   "outputs": [],
   "source": [
    "Vaccine=DATA[['Publication ID','Vaccine','Date Created','Abstract']].dropna(subset=['Abstract'])\n",
    "\n",
    "Vaccine=Vaccine[['Publication ID','Vaccine','Date Created']].drop_duplicates().reset_index(drop=True)\n",
    "\n",
    "Vaccine=Vaccine.groupby(pd.Grouper(key=\"Date Created\",freq='M', closed='left', label='left'))\n",
    "\n",
    "Vaccine=Vaccine[['Vaccine']].agg('mean')"
   ]
  },
  {
   "cell_type": "code",
   "execution_count": 83,
   "metadata": {},
   "outputs": [
    {
     "data": {
      "image/png": "[encoded data removed]",
      "text/plain": [
       "<Figure size 432x288 with 1 Axes>"
      ]
     },
     "metadata": {
      "needs_background": "light"
     },
     "output_type": "display_data"
    }
   ],
   "source": [
    "fig, ax = plt.subplots()\n",
    "\n",
    "ax.plot(Vaccine.index, Vaccine)\n",
    "\n",
    "fig.autofmt_xdate()\n",
    "\n",
    "plt.xlabel('Time')\n",
    "\n",
    "plt.ylabel('Portion of paper for Vaccine')\n",
    "\n",
    "plt.title('Vaccine')\n",
    "\n",
    "plt.show()\n",
    "\n",
    "fig.savefig('Vaccine.png')\n",
    "\n",
    "plt.close(fig)"
   ]
  },
  {
   "cell_type": "markdown",
   "metadata": {},
   "source": [
    "### Diagnostic\n",
    "\n",
    "Here, I show how the portion of publications that mentioned 'Diagnostic' in tile or abstract changes over time."
   ]
  },
  {
   "cell_type": "code",
   "execution_count": 84,
   "metadata": {},
   "outputs": [],
   "source": [
    "Diagnostic=DATA[['Publication ID','Diagnostic','Date Created','Abstract']].dropna(subset=['Abstract'])\n",
    "\n",
    "Diagnostic=Diagnostic[['Publication ID','Diagnostic','Date Created']].drop_duplicates().reset_index(drop=True)\n",
    "\n",
    "Diagnostic=Diagnostic.groupby(pd.Grouper(key=\"Date Created\",freq='M', closed='left', label='left'))\n",
    "\n",
    "Diagnostic=Diagnostic[['Diagnostic']].agg('mean')"
   ]
  },
  {
   "cell_type": "code",
   "execution_count": 85,
   "metadata": {},
   "outputs": [
    {
     "data": {
      "image/png": "[encoded data removed]",
      "text/plain": [
       "<Figure size 432x288 with 1 Axes>"
      ]
     },
     "metadata": {
      "needs_background": "light"
     },
     "output_type": "display_data"
    }
   ],
   "source": [
    "fig, ax = plt.subplots()\n",
    "\n",
    "ax.plot(Diagnostic.index, Diagnostic)\n",
    "\n",
    "fig.autofmt_xdate()\n",
    "\n",
    "plt.xlabel('Time')\n",
    "\n",
    "plt.ylabel('Portion of paper for Diagnostic')\n",
    "\n",
    "plt.title('Diagnostic')\n",
    "\n",
    "plt.show()\n",
    "\n",
    "fig.savefig('Diagnostic.png')\n",
    "\n",
    "plt.close(fig)"
   ]
  },
  {
   "cell_type": "markdown",
   "metadata": {},
   "source": [
    "### Industry Involvement\n",
    "\n",
    "Next, I show how the portion of publications with industry involvement changes over time."
   ]
  },
  {
   "cell_type": "code",
   "execution_count": 86,
   "metadata": {},
   "outputs": [],
   "source": [
    "Industry_Involvement=DATA[['Publication ID','Industry','Date Created']].drop_duplicates().dropna(subset=['Industry']).reset_index(drop=True)\n",
    "\n",
    "Industry_Involvement=Industry_Involvement.groupby(pd.Grouper(key=\"Date Created\",freq='M', closed='left', label='left'))\n",
    "\n",
    "Industry_Involvement=Industry_Involvement[['Industry']].agg('mean')"
   ]
  },
  {
   "cell_type": "code",
   "execution_count": 87,
   "metadata": {},
   "outputs": [
    {
     "data": {
      "image/png": "[encoded data removed]",
      "text/plain": [
       "<Figure size 432x288 with 1 Axes>"
      ]
     },
     "metadata": {
      "needs_background": "light"
     },
     "output_type": "display_data"
    }
   ],
   "source": [
    "fig, ax = plt.subplots()\n",
    "\n",
    "ax.plot(Industry_Involvement.index, Industry_Involvement)\n",
    "\n",
    "fig.autofmt_xdate()\n",
    "\n",
    "plt.xlabel('Time')\n",
    "\n",
    "plt.ylabel('Portion of Industry involvement')\n",
    "\n",
    "plt.title('Industry involvement')\n",
    "\n",
    "plt.show()\n",
    "\n",
    "fig.savefig('Industry_Involvement.png')\n",
    "\n",
    "plt.close(fig)"
   ]
  },
  {
   "cell_type": "markdown",
   "metadata": {},
   "source": [
    "### Length of publication\n",
    "\n",
    "Now, I show how the length of publications changes over time. I show both the total number of pages and the average length of publication."
   ]
  },
  {
   "cell_type": "code",
   "execution_count": 88,
   "metadata": {},
   "outputs": [],
   "source": [
    "Length_Publication=DATA[['Publication ID','Length of publications','Date Created']].drop_duplicates().dropna(subset=['Length of publications']).reset_index(drop=True)\n",
    "\n",
    "Length_Publication=Length_Publication.groupby(pd.Grouper(key=\"Date Created\",freq='M', closed='left', label='left'))\n",
    "\n",
    "Length_Publication_mean=Length_Publication[['Length of publications']].agg('mean')\n",
    "\n",
    "Length_Publication_sum=Length_Publication[['Length of publications']].agg('sum')"
   ]
  },
  {
   "cell_type": "code",
   "execution_count": 89,
   "metadata": {},
   "outputs": [
    {
     "data": {
      "image/png": "[encoded data removed]",
      "text/plain": [
       "<Figure size 432x288 with 1 Axes>"
      ]
     },
     "metadata": {
      "needs_background": "light"
     },
     "output_type": "display_data"
    },
    {
     "data": {
      "image/png": "[encoded data removed]",
      "text/plain": [
       "<Figure size 432x288 with 1 Axes>"
      ]
     },
     "metadata": {
      "needs_background": "light"
     },
     "output_type": "display_data"
    }
   ],
   "source": [
    "fig, ax = plt.subplots()\n",
    "\n",
    "fig.autofmt_xdate()\n",
    "\n",
    "plt.xlabel('Time')\n",
    "\n",
    "plt.title('Number of pages')\n",
    "\n",
    "\n",
    "ax.plot(Length_Publication_sum.index, Length_Publication_sum)\n",
    "\n",
    "plt.ylabel('Number of pages')\n",
    "\n",
    "plt.show()\n",
    "\n",
    "fig.savefig('Length_Publication_sum.png')\n",
    "\n",
    "plt.close(fig)\n",
    "\n",
    "\n",
    "fig, ax = plt.subplots()\n",
    "\n",
    "fig.autofmt_xdate()\n",
    "\n",
    "plt.xlabel('Time')\n",
    "\n",
    "plt.title('Average Length of publication')\n",
    "\n",
    "ax.plot(Length_Publication_mean.index, Length_Publication_mean)\n",
    "\n",
    "plt.ylabel('Average Length of publication')\n",
    "\n",
    "plt.show()\n",
    "\n",
    "fig.savefig('Length_Publication_mean.png')\n",
    "\n",
    "plt.close(fig)"
   ]
  },
  {
   "cell_type": "markdown",
   "metadata": {},
   "source": [
    "### Income group\n",
    "\n",
    "Next, I look into what portion of publications are written by authors from countries in different income groups. To do that first I calculate the portion of authors in each income group. We should notice that if a publication has authors from more than one country, each country will be counted separately. Since the number of publications from the United States is uniquely high, I separate it from other high-income countries and put it in its own category."
   ]
  },
  {
   "cell_type": "code",
   "execution_count": 90,
   "metadata": {},
   "outputs": [],
   "source": [
    "Income_Group=DATA[['Publication ID','Countries','Income group','Date Created']].drop_duplicates().dropna(subset=['Income group']).reset_index(drop=True)\n",
    "\n",
    "for i in range(Income_Group.shape[0]):\n",
    "    if Income_Group.loc[i,'Countries']=='United States':\n",
    "        Income_Group.loc[i,'Income group']='United States'\n",
    "        \n",
    "Income_Group=Income_Group.groupby([pd.Grouper(key=\"Date Created\",freq='M', closed='left', label='left'),'Income group'])\n",
    "\n",
    "Income_Group=Income_Group.agg({'Income group': 'count'})\n",
    "\n",
    "Income_Group[\"Percentage\"]=Income_Group.groupby(level=0).apply(lambda x:  100*x / x.sum())\n",
    "\n",
    "Income_Group=Income_Group[['Percentage']]"
   ]
  },
  {
   "cell_type": "markdown",
   "metadata": {},
   "source": [
    "Then I create a DataFrame with a percentage of publications in each income group."
   ]
  },
  {
   "cell_type": "code",
   "execution_count": 91,
   "metadata": {},
   "outputs": [],
   "source": [
    "Date_index=np.unique(Income_Group.index.get_level_values('Date Created'))\n",
    "\n",
    "Income_index=np.unique(Income_Group.index.get_level_values('Income group'))\n",
    "\n",
    "Mux=pd.MultiIndex.from_product([Date_index, Income_index], names=('Date Created', 'Income group'))\n",
    "\n",
    "Income_Group=Income_Group.reindex(Mux, fill_value=0)\n",
    "\n",
    "\n",
    "Pr_Income=pd.DataFrame()\n",
    "\n",
    "for el in Income_index:\n",
    "    Pr_Income[el]=Income_Group.loc[(Date_index,el),:]['Percentage'].droplevel(level=1)"
   ]
  },
  {
   "cell_type": "markdown",
   "metadata": {},
   "source": [
    "In the end, I order the columns the way I want them to be shown in the figure and draw the stack plot."
   ]
  },
  {
   "cell_type": "code",
   "execution_count": 92,
   "metadata": {},
   "outputs": [
    {
     "data": {
      "image/png": "[encoded data removed]",
      "text/plain": [
       "<Figure size 432x288 with 1 Axes>"
      ]
     },
     "metadata": {
      "needs_background": "light"
     },
     "output_type": "display_data"
    }
   ],
   "source": [
    "Pr_Income=Pr_Income[['United States','High income','Upper middle income','Lower middle income','Low income']]\n",
    "\n",
    "fig, ax = plt.subplots()\n",
    "\n",
    "ax.stackplot(Date_index, Pr_Income.to_numpy().transpose(),labels=Pr_Income.columns)\n",
    "\n",
    "fig.autofmt_xdate()\n",
    "\n",
    "plt.legend(loc='lower left')\n",
    "\n",
    "plt.margins(0,0)\n",
    "\n",
    "plt.title('Stack plot for percentage of publication in each income group')\n",
    "\n",
    "plt.xlabel('Time')\n",
    "\n",
    "plt.ylabel('Percentage of publication')\n",
    "\n",
    "plt.show()\n",
    "\n",
    "fig.savefig('Income_group.png')\n",
    "\n",
    "plt.close(fig)"
   ]
  },
  {
   "cell_type": "markdown",
   "metadata": {},
   "source": [
    "#### Extra codes for testing:"
   ]
  },
  {
   "cell_type": "code",
   "execution_count": 38,
   "metadata": {},
   "outputs": [],
   "source": [
    "#df.sort_values(by=['Length of publications'], ascending=True, na_position='last')"
   ]
  },
  {
   "cell_type": "code",
   "execution_count": 39,
   "metadata": {},
   "outputs": [],
   "source": [
    "#data[(data['Income group'].isnull()) & (data['Countries']!='')]"
   ]
  },
  {
   "cell_type": "code",
   "execution_count": 40,
   "metadata": {},
   "outputs": [],
   "source": [
    "#Group_Keys=Income_Group.groups.keys()\n",
    "\n",
    "#Income_Group.get_group('2016-01-31')"
   ]
  },
  {
   "cell_type": "code",
   "execution_count": 32,
   "metadata": {},
   "outputs": [],
   "source": [
    "#try:\n",
    "#    Pages[col][j]=roman_to_int(Pages[col][j])\n",
    "#except:\n",
    "#    print(j)"
   ]
  },
  {
   "cell_type": "code",
   "execution_count": 1,
   "metadata": {},
   "outputs": [],
   "source": [
    "#for i in range(10):\n",
    "#    print('\\r', i , end='')\n",
    "#    time.sleep(0.2)"
   ]
  },
  {
   "cell_type": "code",
   "execution_count": null,
   "metadata": {},
   "outputs": [],
   "source": [
    "#pip install -U googlemaps"
   ]
  },
  {
   "cell_type": "code",
   "execution_count": null,
   "metadata": {},
   "outputs": [],
   "source": [
    "#ind=data[data.Countries=='Kleger) equal contribution and joint supervision'].index\n",
    "#ind=ind[0]\n",
    "#test=df.loc[ind,'Source']\n",
    "#test"
   ]
  },
  {
   "cell_type": "code",
   "execution_count": 41,
   "metadata": {},
   "outputs": [],
   "source": [
    "#One_Health=DATA[['Publication ID','One_Health','Date Created']].drop_duplicates().dropna(subset=['One_Health']).reset_index(drop=True)\n",
    "#print(len(One_Health))\n",
    "#print(len(One_Health[One_Health.One_Health]))"
   ]
  },
  {
   "cell_type": "code",
   "execution_count": null,
   "metadata": {},
   "outputs": [],
   "source": []
  }
 ],
 "metadata": {
  "kernelspec": {
   "display_name": "Python 3 (ipykernel)",
   "language": "python",
   "name": "python3"
  },
  "language_info": {
   "codemirror_mode": {
    "name": "ipython",
    "version": 3
   },
   "file_extension": ".py",
   "mimetype": "text/x-python",
   "name": "python",
   "nbconvert_exporter": "python",
   "pygments_lexer": "ipython3",
   "version": "3.8.17"
  }
 },
 "nbformat": 4,
 "nbformat_minor": 4
}
